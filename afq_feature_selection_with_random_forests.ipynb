{
 "cells": [
  {
   "cell_type": "code",
   "execution_count": 1,
   "metadata": {
    "collapsed": false
   },
   "outputs": [
    {
     "name": "stderr",
     "output_type": "stream",
     "text": [
      "/Users/Adam/anaconda/lib/python3.5/site-packages/sklearn/cross_validation.py:41: DeprecationWarning: This module was deprecated in version 0.18 in favor of the model_selection module into which all the refactored classes and functions are moved. Also note that the interface of the new CV iterators are different from that of this module. This module will be removed in 0.20.\n",
      "  \"This module will be removed in 0.20.\", DeprecationWarning)\n"
     ]
    }
   ],
   "source": [
    "import afq_transform as afqt\n",
    "import numpy as np\n",
    "import pandas as pd\n",
    "\n",
    "from collections import defaultdict\n",
    "from tqdm import tqdm\n",
    "\n",
    "from sklearn.cross_validation import ShuffleSplit\n",
    "from sklearn.ensemble import RandomForestClassifier\n",
    "from sklearn.metrics import roc_auc_score"
   ]
  },
  {
   "cell_type": "code",
   "execution_count": 2,
   "metadata": {
    "collapsed": false
   },
   "outputs": [
    {
     "data": {
      "text/plain": [
       "array([1, 1, 1, 1, 1, 1, 1, 1, 1, 1, 1, 1, 1, 1, 1, 1, 1, 1, 1, 1, 1, 1, 1,\n",
       "       1, 0, 0, 0, 0, 0, 0, 0, 0, 0, 0, 0, 0, 0, 0, 0, 0, 0, 0, 0, 0, 0, 0,\n",
       "       0, 0])"
      ]
     },
     "execution_count": 2,
     "metadata": {},
     "output_type": "execute_result"
    }
   ],
   "source": [
    "nodes = pd.read_csv('data/nodes.csv')\n",
    "targets = pd.read_csv('data/subjects.csv', index_col='subjectID').drop(['Unnamed: 0'], axis='columns')\n",
    "y = targets['class']\n",
    "y = y.map(lambda h: int(h == 'ALS')).values\n",
    "y"
   ]
  },
  {
   "cell_type": "code",
   "execution_count": 3,
   "metadata": {
    "collapsed": true
   },
   "outputs": [],
   "source": [
    "transformer = afqt.AFQFeatureTransformer()\n",
    "x, groups, cols = transformer.transform(nodes)"
   ]
  },
  {
   "cell_type": "code",
   "execution_count": 7,
   "metadata": {
    "collapsed": false
   },
   "outputs": [
    {
     "name": "stderr",
     "output_type": "stream",
     "text": [
      "100%|██████████| 100/100 [01:16<00:00,  1.30it/s]\n"
     ]
    }
   ],
   "source": [
    "scores = defaultdict(list)\n",
    "\n",
    "rf = RandomForestClassifier()\n",
    "\n",
    "#crossvalidate the scores on a number of different random splits of the data\n",
    "for train_idx, test_idx in tqdm(ShuffleSplit(len(x), 100, .3)):\n",
    "    x_train, x_test = x[train_idx], x[test_idx]\n",
    "    y_train, y_test = y[train_idx], y[test_idx]\n",
    "    r = rf.fit(x_train, y_train)\n",
    "    acc = roc_auc_score(y_test, rf.predict(x_test))\n",
    "    for grp in np.unique(groups):\n",
    "        x_shuffled = afqt.shuffle_group(x_test, grp, groups)\n",
    "        shuff_acc = roc_auc_score(y_test, rf.predict(x_shuffled))\n",
    "        scores[grp].append((acc-shuff_acc)/acc)"
   ]
  },
  {
   "cell_type": "code",
   "execution_count": 18,
   "metadata": {
    "collapsed": false
   },
   "outputs": [
    {
     "name": "stdout",
     "output_type": "stream",
     "text": [
      "Features sorted by their score:\n",
      "+0.03410 : Right Corticospinal, fa\n",
      "+0.02980 : Right Corticospinal, cl\n",
      "+0.02790 : Right Corticospinal, rd\n",
      "+0.01370 : Right SLF, md\n",
      "+0.01090 : Left Arcuate, rd\n",
      "+0.00770 : Right Corticospinal, md\n",
      "+0.00750 : Left SLF, volume\n",
      "+0.00740 : Left Arcuate, ad\n",
      "+0.00730 : Left SLF, fa\n",
      "+0.00670 : Left IFOF, curvature\n",
      "+0.00670 : Left ILF, curvature\n",
      "+0.00630 : Right Uncinate, torsion\n",
      "+0.00520 : Right Arcuate, cl\n",
      "+0.00480 : Left Arcuate, curvature\n",
      "+0.00450 : Right Thalamic Radiation, ad\n",
      "+0.00430 : Left IFOF, cl\n",
      "+0.00430 : Left IFOF, rd\n",
      "+0.00420 : Callosum Forceps Minor, torsion\n",
      "+0.00400 : Left Uncinate, ad\n",
      "+0.00400 : Right Cingulum Hippocampus, cl\n",
      "+0.00400 : Right Cingulum Hippocampus, curvature\n",
      "+0.00390 : Left Corticospinal, curvature\n",
      "+0.00370 : Left Corticospinal, rd\n",
      "+0.00350 : Right IFOF, ad\n",
      "+0.00350 : Callosum Forceps Major, cl\n",
      "+0.00320 : Left Thalamic Radiation, rd\n",
      "+0.00320 : Right Arcuate, volume\n",
      "+0.00310 : Left Uncinate, cl\n",
      "+0.00290 : Left Corticospinal, volume\n",
      "+0.00280 : Right IFOF, torsion\n",
      "+0.00280 : Right Cingulum Hippocampus, volume\n",
      "+0.00260 : Left Corticospinal, torsion\n",
      "+0.00240 : Right ILF, cl\n",
      "+0.00230 : Callosum Forceps Major, fa\n",
      "+0.00230 : Left Cingulum Hippocampus, rd\n",
      "+0.00210 : Left Cingulum Cingulate, rd\n",
      "+0.00190 : Callosum Forceps Major, rd\n",
      "+0.00180 : Callosum Forceps Major, torsion\n",
      "+0.00170 : Right Cingulum Cingulate, cl\n",
      "+0.00170 : Left Thalamic Radiation, md\n",
      "+0.00160 : Left Uncinate, curvature\n",
      "+0.00160 : Right Thalamic Radiation, fa\n",
      "+0.00160 : Left Uncinate, torsion\n",
      "+0.00150 : Left Arcuate, cl\n",
      "+0.00150 : Callosum Forceps Major, curvature\n",
      "+0.00150 : Callosum Forceps Major, volume\n",
      "+0.00140 : Left Uncinate, md\n",
      "+0.00140 : Right Uncinate, rd\n",
      "+0.00130 : Right Corticospinal, ad\n",
      "+0.00100 : Right Thalamic Radiation, cl\n",
      "+0.00100 : Right Arcuate, curvature\n",
      "+0.00100 : Left Cingulum Hippocampus, fa\n",
      "+0.00100 : Right IFOF, fa\n",
      "+0.00100 : Left Cingulum Cingulate, torsion\n",
      "+0.00070 : Callosum Forceps Minor, fa\n",
      "+0.00050 : Right Cingulum Cingulate, fa\n",
      "+0.00040 : Callosum Forceps Minor, ad\n",
      "+0.00030 : Left Arcuate, fa\n",
      "+0.00020 : Left Corticospinal, cl\n",
      "+0.00020 : Right SLF, rd\n",
      "+0.00010 : Right Cingulum Hippocampus, ad\n",
      "+0.00010 : Left Thalamic Radiation, cl\n",
      "+0.00010 : Left IFOF, md\n",
      "+0.00010 : Left SLF, md\n",
      "+0.00010 : Right Cingulum Cingulate, torsion\n",
      "+0.00000 : Callosum Forceps Minor, cl\n",
      "-0.00000 : Right Thalamic Radiation, curvature\n",
      "+0.00000 : Right Arcuate, md\n",
      "+0.00000 : Right Cingulum Hippocampus, torsion\n",
      "+0.00000 : Right Cingulum Cingulate, volume\n",
      "+0.00000 : Right Corticospinal, volume\n",
      "-0.00010 : Right ILF, md\n",
      "-0.00020 : Left Thalamic Radiation, volume\n",
      "-0.00030 : Left Cingulum Hippocampus, curvature\n",
      "-0.00030 : Left Thalamic Radiation, fa\n",
      "-0.00030 : Right SLF, torsion\n",
      "-0.00040 : Left Cingulum Hippocampus, ad\n",
      "-0.00040 : Left SLF, rd\n",
      "-0.00040 : Right Corticospinal, torsion\n",
      "-0.00050 : Callosum Forceps Minor, volume\n",
      "-0.00060 : Left Arcuate, torsion\n",
      "-0.00080 : Left Cingulum Hippocampus, torsion\n",
      "-0.00090 : Callosum Forceps Minor, rd\n",
      "-0.00110 : Left Thalamic Radiation, curvature\n",
      "-0.00110 : Right Arcuate, torsion\n",
      "-0.00110 : Left Cingulum Hippocampus, volume\n",
      "-0.00120 : Right ILF, volume\n",
      "-0.00140 : Left Cingulum Cingulate, ad\n",
      "-0.00140 : Right Corticospinal, curvature\n",
      "-0.00140 : Right Thalamic Radiation, torsion\n",
      "-0.00140 : Left Uncinate, volume\n",
      "-0.00140 : Right Uncinate, volume\n",
      "-0.00160 : Right SLF, cl\n",
      "-0.00170 : Left Thalamic Radiation, ad\n",
      "-0.00190 : Left ILF, ad\n",
      "-0.00200 : Right Cingulum Cingulate, ad\n",
      "-0.00200 : Left IFOF, torsion\n",
      "-0.00210 : Right Cingulum Cingulate, rd\n",
      "-0.00210 : Left Thalamic Radiation, torsion\n",
      "-0.00220 : Right SLF, curvature\n",
      "-0.00220 : Right Cingulum Cingulate, md\n",
      "-0.00220 : Left ILF, torsion\n",
      "-0.00240 : Left Corticospinal, ad\n",
      "-0.00240 : Right SLF, ad\n",
      "-0.00250 : Right IFOF, volume\n",
      "-0.00260 : Left ILF, rd\n",
      "-0.00270 : Right Thalamic Radiation, rd\n",
      "-0.00280 : Left SLF, cl\n",
      "-0.00280 : Right IFOF, cl\n",
      "-0.00290 : Left SLF, ad\n",
      "-0.00300 : Left ILF, cl\n",
      "-0.00300 : Callosum Forceps Major, md\n",
      "-0.00300 : Left Cingulum Cingulate, volume\n",
      "-0.00310 : Left Arcuate, volume\n",
      "-0.00330 : Right ILF, curvature\n",
      "-0.00330 : Right Arcuate, rd\n",
      "-0.00340 : Right SLF, volume\n",
      "-0.00350 : Right Arcuate, ad\n",
      "-0.00360 : Left Cingulum Cingulate, cl\n",
      "-0.00370 : Left Uncinate, rd\n",
      "-0.00390 : Callosum Forceps Major, ad\n",
      "-0.00390 : Right IFOF, md\n",
      "-0.00390 : Right Thalamic Radiation, md\n",
      "-0.00390 : Right Uncinate, md\n",
      "-0.00400 : Right Arcuate, fa\n",
      "-0.00420 : Left Uncinate, fa\n",
      "-0.00420 : Left Corticospinal, md\n",
      "-0.00440 : Left ILF, md\n",
      "-0.00440 : Right ILF, rd\n",
      "-0.00460 : Left ILF, fa\n",
      "-0.00460 : Left SLF, torsion\n",
      "-0.00470 : Left IFOF, ad\n",
      "-0.00550 : Left Cingulum Hippocampus, cl\n",
      "-0.00570 : Left Cingulum Cingulate, fa\n",
      "-0.00620 : Right ILF, torsion\n",
      "-0.00630 : Left Cingulum Hippocampus, md\n",
      "-0.00630 : Right IFOF, rd\n",
      "-0.00650 : Left Arcuate, md\n",
      "-0.00650 : Right Cingulum Hippocampus, rd\n",
      "-0.00660 : Right IFOF, curvature\n",
      "-0.00680 : Right Uncinate, cl\n",
      "-0.00680 : Right Uncinate, curvature\n",
      "-0.00690 : Left SLF, curvature\n",
      "-0.00690 : Right Uncinate, fa\n",
      "-0.00740 : Left ILF, volume\n",
      "-0.00750 : Right ILF, ad\n",
      "-0.00760 : Callosum Forceps Minor, curvature\n",
      "-0.00770 : Callosum Forceps Minor, md\n",
      "-0.00780 : Left Cingulum Cingulate, md\n",
      "-0.00810 : Right ILF, fa\n",
      "-0.00820 : Left IFOF, fa\n",
      "-0.00860 : Right Cingulum Hippocampus, fa\n",
      "-0.00880 : Right Uncinate, ad\n",
      "-0.00900 : Left Corticospinal, fa\n",
      "-0.01010 : Right Thalamic Radiation, volume\n",
      "-0.01050 : Right SLF, fa\n",
      "-0.01050 : Right Cingulum Hippocampus, md\n",
      "-0.01090 : Right Cingulum Cingulate, curvature\n",
      "-0.01190 : Left IFOF, volume\n",
      "-0.01360 : Left Cingulum Cingulate, curvature\n"
     ]
    }
   ],
   "source": [
    "print(\"Features sorted by their score:\")\n",
    "importances = sorted(\n",
    "    [(feat, round(np.mean(score), 4)) for \n",
    "     feat, score in scores.items()],\n",
    "    key=lambda x: x[1],\n",
    "    reverse=True)\n",
    "\n",
    "for f, s in importances:\n",
    "    group_name = cols.get_values()[groups == f][0]\n",
    "    metric = group_name[0]\n",
    "    tract = group_name[1]\n",
    "    print('{i:+7.5f} : {t:s}, {m:s}'.format(t=tract, m=metric, i=s))"
   ]
  },
  {
   "cell_type": "code",
   "execution_count": null,
   "metadata": {
    "collapsed": true
   },
   "outputs": [],
   "source": []
  }
 ],
 "metadata": {
  "kernelspec": {
   "display_name": "Python 3",
   "language": "python",
   "name": "python3"
  },
  "language_info": {
   "codemirror_mode": {
    "name": "ipython",
    "version": 3
   },
   "file_extension": ".py",
   "mimetype": "text/x-python",
   "name": "python",
   "nbconvert_exporter": "python",
   "pygments_lexer": "ipython3",
   "version": "3.5.3"
  }
 },
 "nbformat": 4,
 "nbformat_minor": 2
}
